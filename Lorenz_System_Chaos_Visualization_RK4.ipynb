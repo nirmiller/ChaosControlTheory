{
  "nbformat": 4,
  "nbformat_minor": 0,
  "metadata": {
    "colab": {
      "provenance": []
    },
    "kernelspec": {
      "name": "python3",
      "display_name": "Python 3"
    },
    "language_info": {
      "name": "python"
    }
  },
  "cells": [
    {
      "cell_type": "markdown",
      "source": [
        "In this section the Fourth Order Runge Kutta method is derived and applied to the Lorenz system to create an approximation of the function. This approximation is visualized using matplot.lib"
      ],
      "metadata": {
        "id": "uRLi6Njdq_tQ"
      }
    },
    {
      "cell_type": "markdown",
      "source": [
        "![image.png](data:image/png;base64,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)"
      ],
      "metadata": {
        "id": "8pI2iF3MrZea"
      }
    },
    {
      "cell_type": "code",
      "source": [
        "!pip install nolds"
      ],
      "metadata": {
        "colab": {
          "base_uri": "https://localhost:8080/"
        },
        "id": "vrlvLIKDa6u_",
        "outputId": "eec3349a-34ee-404c-8d91-a012e02a2a54"
      },
      "execution_count": null,
      "outputs": [
        {
          "output_type": "stream",
          "name": "stdout",
          "text": [
            "Requirement already satisfied: nolds in /usr/local/lib/python3.10/dist-packages (0.5.2)\n",
            "Requirement already satisfied: numpy in /usr/local/lib/python3.10/dist-packages (from nolds) (1.23.5)\n",
            "Requirement already satisfied: future in /usr/local/lib/python3.10/dist-packages (from nolds) (0.18.3)\n",
            "Requirement already satisfied: setuptools in /usr/local/lib/python3.10/dist-packages (from nolds) (67.7.2)\n"
          ]
        }
      ]
    },
    {
      "cell_type": "code",
      "source": [
        "import numpy as np\n",
        "from scipy.interpolate import make_interp_spline\n",
        "import matplotlib.pyplot as plt\n",
        "from scipy.interpolate import interp1d\n",
        "import nolds\n",
        "from sklearn import preprocessing\n",
        "from mpl_toolkits import mplot3d\n",
        "from scipy.interpolate import splprep, splev\n",
        "\n"
      ],
      "metadata": {
        "id": "kpLMyVfctcIM"
      },
      "execution_count": null,
      "outputs": []
    },
    {
      "cell_type": "code",
      "source": [
        "'''\n",
        "\n",
        "Set of several chaos metrics to characterize the visualized chaotic system\n",
        "\n",
        "'''\n",
        "\n",
        "\n",
        "def chaos_metrics(data):\n",
        "  h = nolds.hurst_rs(data)\n",
        "  rl = nolds.lyap_r(data)\n",
        "  el = nolds.lyap_e(data)\n",
        "  fd = nolds.corr_dim(data, 1)\n",
        "  entropy = nolds.sampen(data)\n",
        "\n",
        "  print(\"Hurst from nolds custom library\", h)\n",
        "  print(\"Rosenstein Lyapunov estimation from nolds custom library\", rl)\n",
        "  print(\"Eckmann Lyapunov estimation from nolds custom library\", el)\n",
        "  print(\"Fractal Dimension from nolds library\", fd)\n",
        "  print(\"Entropy from nolds library\", entropy)"
      ],
      "metadata": {
        "id": "dgweIsYYa1ZK"
      },
      "execution_count": null,
      "outputs": []
    },
    {
      "cell_type": "code",
      "source": [
        "'''\n",
        "\n",
        "Functions for Lorenz system\n",
        "\n",
        "Inputs : A set of values and hyperparameters\n",
        "Outputs : The derivatives of the system defined by the lorenz function\n",
        "\n",
        "'''\n",
        "\n",
        "\n",
        "class Lorenz_System():\n",
        "  def f_values(self, t, x, y, z, sig=.1):\n",
        "    return sig*(y-z)\n",
        "  def g_values(self, t, x, y, z, p=.1):\n",
        "    return x*(p - z)-y\n",
        "  def v_values(self, t, x, y, z, b=.1):\n",
        "    return x*y - b*z\n",
        "\n"
      ],
      "metadata": {
        "id": "otLa-t04t0rU"
      },
      "execution_count": null,
      "outputs": []
    },
    {
      "cell_type": "code",
      "source": [
        "'''\n",
        "\n",
        "Functions for Roessler system\n",
        "\n",
        "Inputs : A set of values and hyperparameters\n",
        "Outputs : The derivatives of the system defined by the roessler function\n",
        "\n",
        "\n",
        "'''\n",
        "\n",
        "class Roessler_System():\n",
        "  def f_values(t, x, y, z):\n",
        "    return -(y+z)\n",
        "  def g_values(t, x, y, z, a=.1):\n",
        "    return x+a*y\n",
        "  def v_values(t, x, y, z, b=.1, c=.1):\n",
        "    return b+(x-c)*z"
      ],
      "metadata": {
        "id": "JFlMcvqGxaux"
      },
      "execution_count": null,
      "outputs": []
    },
    {
      "cell_type": "code",
      "execution_count": null,
      "metadata": {
        "id": "1fwUESGGq9AY"
      },
      "outputs": [],
      "source": [
        "'''\n",
        "\n",
        "Calculates the k value given a list of functions defined by the differential equation.\n",
        "\n",
        "Inputs : List of functions, list of points ex. (t0, x0, y0,...), (t1, x1, y1,...), ... etc\n",
        "Outputs : List of K values for each respectives function\n",
        "\n",
        "'''\n",
        "\n",
        "def calculate_k(functions, initial_conditions, h, hyper_parameters):\n",
        "  t_o = initial_conditions[0]\n",
        "  x_o = initial_conditions[1]\n",
        "  y_o = initial_conditions[2]\n",
        "  z_o = initial_conditions[3]\n",
        "\n",
        "  x_function = functions[0]\n",
        "  y_function = functions[1]\n",
        "  z_function = functions[2]\n",
        "\n",
        "\n",
        "  k1 = h*x_function(t=t_o, x=x_o, y=y_o, z=z_o,sig= hyper_parameters[0])\n",
        "  l1 = h*y_function(t_o, x_o, y_o, z_o, hyper_parameters[1])\n",
        "  w1 = h*z_function(t_o, x_o, y_o, z_o, hyper_parameters[2])\n",
        "\n",
        "  k2 = h*x_function(t_o+h/2, x_o+k1/2, y_o+l1/2, z_o+w1/2,  hyper_parameters[0])\n",
        "  l2 = h*y_function(t_o+h/2, x_o+k1/2, y_o+l1/2, z_o+w1/2,  hyper_parameters[1])\n",
        "  w2 = h*z_function(t_o+h/2, x_o+k1/2, y_o+l1/2, z_o+w1/2,  hyper_parameters[2])\n",
        "\n",
        "  k3 = h*x_function(t_o+h/2, x_o+k2/2, y_o+l2/2, z_o+w2/2,  hyper_parameters[0])\n",
        "  l3 = h*y_function(t_o+h/2, x_o+k2/2, y_o+l2/2, z_o+w2/2, hyper_parameters[1])\n",
        "  w3 = h*z_function(t_o+h/2, x_o+k2/2, y_o+l2/2, z_o+w2/2, hyper_parameters[2])\n",
        "\n",
        "\n",
        "  k4 = h*x_function(t_o+h, x_o+k3, y_o+l3, z_o+w3,  hyper_parameters[0])\n",
        "  l4 = h*y_function(t_o+h, x_o+k3, y_o+l3, z_o+w3,  hyper_parameters[1])\n",
        "  w4 = h*z_function(t_o+h, x_o+k3, y_o+l3, z_o+w3, hyper_parameters[2])\n",
        "\n",
        "\n",
        "\n",
        "  return [k1 + 2*k2 + 2*k3 + k4,l1 + 2*l2 + 2*l3 + l4, w1 + 2*w2 + 2*w3 + w4]\n",
        "\n"
      ]
    },
    {
      "cell_type": "code",
      "source": [
        "'''\n",
        "\n",
        "Calculates the approximate n+1 value of the set of equations X, Y, Z from the initial conditions and set of derivative functions\n",
        "\n",
        "Inputs : List of functions, list of points (tn, xn, yn,...)\n",
        "Outputs : List of approximate values of Xn+1, Yn+1, Zn+1\n",
        "\n",
        "\n",
        "'''\n",
        "\n",
        "def approximate_function(functions, position, t, h=.001, hyper_parameters=[.001, .001, .001]):\n",
        "  next_values = [t]\n",
        "  k = calculate_k(functions, position, h, hyper_parameters)\n",
        "  for i in range(len(functions)):\n",
        "    next_values.append(position[i] + k[i]/6)\n",
        "  return next_values\n",
        "\n"
      ],
      "metadata": {
        "id": "pho_ehNGxBK7"
      },
      "execution_count": null,
      "outputs": []
    },
    {
      "cell_type": "code",
      "source": [
        "'''\n",
        "\n",
        "Loops through t values and calculates approximate points for Lorenz System\n",
        "\n",
        "'''\n",
        "\n",
        "system = Lorenz_System()\n",
        "\n",
        "functions = [system.f_values, system.g_values, system.v_values]\n",
        "initial_conditions = [0, 0.01, 0, 0]\n",
        "N = 1000\n",
        "h = .01\n",
        "\n",
        "t_values = list(range(0, N, 1))\n",
        "#t_values =  [x / float(N) for x in t_values]\n",
        "values = []\n",
        "#                  sig p  B\n",
        "hyper_parameters = [10, 28, 8/3.0]\n",
        "\n",
        "point = [0, 0, 0, 0]\n",
        "for t in t_values:\n",
        "  if t == t_values[0]:\n",
        "    point = approximate_function(functions, initial_conditions, t, h, hyper_parameters)\n",
        "    values.append(point)\n",
        "  else:\n",
        "    next_point = approximate_function(functions, point, t, h,hyper_parameters)\n",
        "    point = next_point\n",
        "    values.append(point)\n",
        "\n",
        "\n",
        "\n"
      ],
      "metadata": {
        "id": "tAlJCBUSzFUQ"
      },
      "execution_count": null,
      "outputs": []
    },
    {
      "cell_type": "code",
      "source": [
        "'''\n",
        "\n",
        "Break down values list into x-z, x-y, y-z values\n",
        "\n",
        "'''\n",
        "t_values = []\n",
        "x_values = []\n",
        "y_values = []\n",
        "z_values = []\n",
        "\n",
        "for i in range(5, len(values)):\n",
        "  t_values.append(values[i][0])\n",
        "  x_values.append(values[i][1])\n",
        "  y_values.append(values[i][2])\n",
        "  z_values.append(values[i][3])\n",
        "\n",
        "t_values = np.array(t_values)\n",
        "x_values = np.array(preprocessing.scale(x_values))\n",
        "y_values = np.array(preprocessing.scale(y_values))\n",
        "z_values = np.array(preprocessing.scale(z_values))"
      ],
      "metadata": {
        "id": "SYzJ9AY23Wqp",
        "colab": {
          "base_uri": "https://localhost:8080/"
        },
        "outputId": "0152372f-7482-4f23-eabf-683e6f796fb7"
      },
      "execution_count": null,
      "outputs": [
        {
          "output_type": "stream",
          "name": "stderr",
          "text": [
            "/usr/local/lib/python3.10/dist-packages/sklearn/preprocessing/_data.py:240: UserWarning: Numerical issues were encountered when centering the data and might not be solved. Dataset may contain too large values. You may need to prescale your features.\n",
            "  warnings.warn(\n",
            "/usr/local/lib/python3.10/dist-packages/sklearn/preprocessing/_data.py:240: UserWarning: Numerical issues were encountered when centering the data and might not be solved. Dataset may contain too large values. You may need to prescale your features.\n",
            "  warnings.warn(\n"
          ]
        }
      ]
    },
    {
      "cell_type": "code",
      "source": [
        "'''\n",
        "\n",
        "Output of several chaos metrics applied to the x,y,z values of the Lorenz System\n",
        "\n",
        "'''\n",
        "\n",
        "# Chaotic Metrics\n",
        "print('x_values chaos')\n",
        "chaos_metrics(x_values)\n",
        "print('y_values chaos')\n",
        "chaos_metrics(y_values)\n",
        "print('z_values chaos')\n",
        "chaos_metrics(z_values)"
      ],
      "metadata": {
        "colab": {
          "base_uri": "https://localhost:8080/",
          "height": 425
        },
        "id": "lQy0e05UbQ5R",
        "outputId": "a862731b-98be-4e02-e3d8-6b69b2d85511"
      },
      "execution_count": null,
      "outputs": [
        {
          "output_type": "stream",
          "name": "stdout",
          "text": [
            "x_values chaos\n"
          ]
        },
        {
          "output_type": "error",
          "ename": "ValueError",
          "evalue": "ignored",
          "traceback": [
            "\u001b[0;31m---------------------------------------------------------------------------\u001b[0m",
            "\u001b[0;31mValueError\u001b[0m                                Traceback (most recent call last)",
            "\u001b[0;32m<ipython-input-24-cd2f8f58267f>\u001b[0m in \u001b[0;36m<cell line: 9>\u001b[0;34m()\u001b[0m\n\u001b[1;32m      7\u001b[0m \u001b[0;31m# Chaotic Metrics\u001b[0m\u001b[0;34m\u001b[0m\u001b[0;34m\u001b[0m\u001b[0m\n\u001b[1;32m      8\u001b[0m \u001b[0mprint\u001b[0m\u001b[0;34m(\u001b[0m\u001b[0;34m'x_values chaos'\u001b[0m\u001b[0;34m)\u001b[0m\u001b[0;34m\u001b[0m\u001b[0;34m\u001b[0m\u001b[0m\n\u001b[0;32m----> 9\u001b[0;31m \u001b[0mchaos_metrics\u001b[0m\u001b[0;34m(\u001b[0m\u001b[0mx_values\u001b[0m\u001b[0;34m)\u001b[0m\u001b[0;34m\u001b[0m\u001b[0;34m\u001b[0m\u001b[0m\n\u001b[0m\u001b[1;32m     10\u001b[0m \u001b[0mprint\u001b[0m\u001b[0;34m(\u001b[0m\u001b[0;34m'y_values chaos'\u001b[0m\u001b[0;34m)\u001b[0m\u001b[0;34m\u001b[0m\u001b[0;34m\u001b[0m\u001b[0m\n\u001b[1;32m     11\u001b[0m \u001b[0mchaos_metrics\u001b[0m\u001b[0;34m(\u001b[0m\u001b[0my_values\u001b[0m\u001b[0;34m)\u001b[0m\u001b[0;34m\u001b[0m\u001b[0;34m\u001b[0m\u001b[0m\n",
            "\u001b[0;32m<ipython-input-17-8cf892ebb32a>\u001b[0m in \u001b[0;36mchaos_metrics\u001b[0;34m(data)\u001b[0m\n\u001b[1;32m      8\u001b[0m \u001b[0;32mdef\u001b[0m \u001b[0mchaos_metrics\u001b[0m\u001b[0;34m(\u001b[0m\u001b[0mdata\u001b[0m\u001b[0;34m)\u001b[0m\u001b[0;34m:\u001b[0m\u001b[0;34m\u001b[0m\u001b[0;34m\u001b[0m\u001b[0m\n\u001b[1;32m      9\u001b[0m   \u001b[0mh\u001b[0m \u001b[0;34m=\u001b[0m \u001b[0mnolds\u001b[0m\u001b[0;34m.\u001b[0m\u001b[0mhurst_rs\u001b[0m\u001b[0;34m(\u001b[0m\u001b[0mdata\u001b[0m\u001b[0;34m)\u001b[0m\u001b[0;34m\u001b[0m\u001b[0;34m\u001b[0m\u001b[0m\n\u001b[0;32m---> 10\u001b[0;31m   \u001b[0mrl\u001b[0m \u001b[0;34m=\u001b[0m \u001b[0mnolds\u001b[0m\u001b[0;34m.\u001b[0m\u001b[0mlyap_r\u001b[0m\u001b[0;34m(\u001b[0m\u001b[0mdata\u001b[0m\u001b[0;34m)\u001b[0m\u001b[0;34m\u001b[0m\u001b[0;34m\u001b[0m\u001b[0m\n\u001b[0m\u001b[1;32m     11\u001b[0m   \u001b[0mel\u001b[0m \u001b[0;34m=\u001b[0m \u001b[0mnolds\u001b[0m\u001b[0;34m.\u001b[0m\u001b[0mlyap_e\u001b[0m\u001b[0;34m(\u001b[0m\u001b[0mdata\u001b[0m\u001b[0;34m)\u001b[0m\u001b[0;34m\u001b[0m\u001b[0;34m\u001b[0m\u001b[0m\n\u001b[1;32m     12\u001b[0m   \u001b[0mfd\u001b[0m \u001b[0;34m=\u001b[0m \u001b[0mnolds\u001b[0m\u001b[0;34m.\u001b[0m\u001b[0mcorr_dim\u001b[0m\u001b[0;34m(\u001b[0m\u001b[0mdata\u001b[0m\u001b[0;34m,\u001b[0m \u001b[0;36m1\u001b[0m\u001b[0;34m)\u001b[0m\u001b[0;34m\u001b[0m\u001b[0;34m\u001b[0m\u001b[0m\n",
            "\u001b[0;32m/usr/local/lib/python3.10/dist-packages/nolds/measures.py\u001b[0m in \u001b[0;36mlyap_r\u001b[0;34m(data, emb_dim, lag, min_tsep, tau, min_neighbors, trajectory_len, fit, debug_plot, debug_data, plot_file, fit_offset)\u001b[0m\n\u001b[1;32m    234\u001b[0m     \u001b[0mmf\u001b[0m \u001b[0;34m=\u001b[0m \u001b[0mnp\u001b[0m\u001b[0;34m.\u001b[0m\u001b[0mfft\u001b[0m\u001b[0;34m.\u001b[0m\u001b[0mrfftfreq\u001b[0m\u001b[0;34m(\u001b[0m\u001b[0mn\u001b[0m \u001b[0;34m*\u001b[0m \u001b[0;36m2\u001b[0m \u001b[0;34m-\u001b[0m \u001b[0;36m1\u001b[0m\u001b[0;34m)\u001b[0m \u001b[0;34m*\u001b[0m \u001b[0mnp\u001b[0m\u001b[0;34m.\u001b[0m\u001b[0mabs\u001b[0m\u001b[0;34m(\u001b[0m\u001b[0mf\u001b[0m\u001b[0;34m)\u001b[0m\u001b[0;34m\u001b[0m\u001b[0;34m\u001b[0m\u001b[0m\n\u001b[1;32m    235\u001b[0m     \u001b[0mmf\u001b[0m \u001b[0;34m=\u001b[0m \u001b[0mnp\u001b[0m\u001b[0;34m.\u001b[0m\u001b[0mmean\u001b[0m\u001b[0;34m(\u001b[0m\u001b[0mmf\u001b[0m\u001b[0;34m[\u001b[0m\u001b[0;36m1\u001b[0m\u001b[0;34m:\u001b[0m\u001b[0;34m]\u001b[0m\u001b[0;34m)\u001b[0m \u001b[0;34m/\u001b[0m \u001b[0mnp\u001b[0m\u001b[0;34m.\u001b[0m\u001b[0msum\u001b[0m\u001b[0;34m(\u001b[0m\u001b[0mnp\u001b[0m\u001b[0;34m.\u001b[0m\u001b[0mabs\u001b[0m\u001b[0;34m(\u001b[0m\u001b[0mf\u001b[0m\u001b[0;34m[\u001b[0m\u001b[0;36m1\u001b[0m\u001b[0;34m:\u001b[0m\u001b[0;34m]\u001b[0m\u001b[0;34m)\u001b[0m\u001b[0;34m)\u001b[0m\u001b[0;34m\u001b[0m\u001b[0;34m\u001b[0m\u001b[0m\n\u001b[0;32m--> 236\u001b[0;31m     \u001b[0mmin_tsep\u001b[0m \u001b[0;34m=\u001b[0m \u001b[0mint\u001b[0m\u001b[0;34m(\u001b[0m\u001b[0mnp\u001b[0m\u001b[0;34m.\u001b[0m\u001b[0mceil\u001b[0m\u001b[0;34m(\u001b[0m\u001b[0;36m1.0\u001b[0m \u001b[0;34m/\u001b[0m \u001b[0mmf\u001b[0m\u001b[0;34m)\u001b[0m\u001b[0;34m)\u001b[0m\u001b[0;34m\u001b[0m\u001b[0;34m\u001b[0m\u001b[0m\n\u001b[0m\u001b[1;32m    237\u001b[0m     \u001b[0;32mif\u001b[0m \u001b[0mmin_tsep\u001b[0m \u001b[0;34m>\u001b[0m \u001b[0mmax_tsep_factor\u001b[0m \u001b[0;34m*\u001b[0m \u001b[0mn\u001b[0m\u001b[0;34m:\u001b[0m\u001b[0;34m\u001b[0m\u001b[0;34m\u001b[0m\u001b[0m\n\u001b[1;32m    238\u001b[0m       \u001b[0mmin_tsep\u001b[0m \u001b[0;34m=\u001b[0m \u001b[0mint\u001b[0m\u001b[0;34m(\u001b[0m\u001b[0mmax_tsep_factor\u001b[0m \u001b[0;34m*\u001b[0m \u001b[0mn\u001b[0m\u001b[0;34m)\u001b[0m\u001b[0;34m\u001b[0m\u001b[0;34m\u001b[0m\u001b[0m\n",
            "\u001b[0;31mValueError\u001b[0m: cannot convert float NaN to integer"
          ]
        }
      ]
    },
    {
      "cell_type": "code",
      "source": [
        "'''\n",
        "\n",
        "The following plots the Lorenz System in the X-Y, X-Z, Y-Z plane respectively\n",
        "\n",
        "'''\n",
        "\n",
        "\n",
        "# X-Y Plot\n",
        "tck, u = splprep([x_values, y_values], s=1)\n",
        "u_new = np.linspace(0, 1, len(t_values))\n",
        "x_new, y_new = splev(u_new, tck)\n",
        "plt.plot(x_new, y_new, 'b-', label='X-Y Plot',  linewidth=0.5)\n",
        "plt.title('X-Y Lorenz')\n",
        "plt.xlabel('X')\n",
        "plt.ylabel('Y')\n",
        "plt.show()\n",
        "\n",
        "#X-Z Plot\n",
        "tck, u = splprep([x_values, z_values], s=1)\n",
        "u_new = np.linspace(0, 1, len(t_values))\n",
        "x_new, z_new = splev(u_new, tck)\n",
        "plt.plot(x_new, z_new, 'b-', label='X-Z Plot',  linewidth=0.5)\n",
        "plt.title('X-Z Lorenz')\n",
        "plt.xlabel('X')\n",
        "plt.ylabel('Z')\n",
        "plt.show()\n",
        "\n",
        "#Y-Z Plot\n",
        "tck, u = splprep([y_values, z_values], s=1)\n",
        "u_new = np.linspace(0, 1, len(t_values))\n",
        "y_new, z_new = splev(u_new, tck)\n",
        "plt.plot(y_new, z_new, 'b-', label='y-Z Plot', linewidth=0.5)\n",
        "plt.title('Y-Z Lorenz')\n",
        "plt.xlabel('Y')\n",
        "plt.ylabel('Z')\n",
        "plt.show()\n"
      ],
      "metadata": {
        "id": "ueGekcvW3nb7"
      },
      "execution_count": null,
      "outputs": []
    },
    {
      "cell_type": "code",
      "source": [
        "'''\n",
        "\n",
        "3D Plot of the Lorenz System\n",
        "\n",
        "'''\n",
        "\n",
        "tck, u = splprep([x_values, y_values, z_values], s=1)\n",
        "u_new = np.linspace(0, 1, len(t_values))\n",
        "\n",
        "x_new, y_new, z_new = splev(u_new, tck)\n",
        "\n",
        "fig = plt.figure(figsize=(10, 8))\n",
        "ax = fig.add_subplot(111, projection='3d')\n",
        "ax.plot(x_new, y_new, z_new, 'b-', label='Smooth Curve',  linewidth=0.5)"
      ],
      "metadata": {
        "id": "lhGDoROmkSrp"
      },
      "execution_count": null,
      "outputs": []
    }
  ]
}